{
 "cells": [
  {
   "cell_type": "code",
   "execution_count": 2,
   "metadata": {},
   "outputs": [
    {
     "data": {
      "text/plain": [
       "' TESTING '"
      ]
     },
     "execution_count": 2,
     "metadata": {},
     "output_type": "execute_result"
    }
   ],
   "source": [
    "import numpy as np\n",
    "\n",
    "def str_to_matrix(state):\n",
    "    k = 0;\n",
    "    mat = np.zeros((3, 3), dtype=np.int32)\n",
    "    for i in range(3):\n",
    "        for j in range(3):\n",
    "            mat[i][j] = state[k]\n",
    "            k += 1\n",
    "    return mat\n",
    "\n",
    "def matrix_to_str(mat):\n",
    "    s = \"\"\n",
    "    for t in mat.reshape(9,):\n",
    "        s += (str)(t)\n",
    "    return s\n",
    "\n",
    "def get_zero_index(state):\n",
    "    ind = 0\n",
    "    for ch in state:\n",
    "        if(ch=='0'):\n",
    "            return ind\n",
    "        ind += 1\n",
    "        \n",
    "\"\"\" TESTING \"\"\"      \n",
    "# org_state = '852031764'\n",
    "# print(f\"original state = {org_state}\")\n",
    "# index = get_zero_index(state)\n",
    "# print(f\"index of zero = {index}\")\n",
    "# mat = str_to_matrix(state)\n",
    "# print(mat)\n",
    "# # moving 0 upwards\n",
    "# mat[1][0], mat[0][0] = mat[0][0], mat[1][0],\n",
    "# print(\"After moving 0 up\")\n",
    "# print(mat)\n",
    "# new_state = matrix_to_str(mat)\n",
    "# print(f\"new state = {new_state}\")"
   ]
  },
  {
   "cell_type": "code",
   "execution_count": 3,
   "metadata": {},
   "outputs": [
    {
     "data": {
      "text/plain": [
       "' TESTING '"
      ]
     },
     "execution_count": 3,
     "metadata": {},
     "output_type": "execute_result"
    }
   ],
   "source": [
    "# move '0' in possible directions \n",
    "def next_states(state):\n",
    "\n",
    "    # neighbour configurations\n",
    "    neighbours = []\n",
    "\n",
    "    # create matrix\n",
    "    mat = str_to_matrix(state)\n",
    "\n",
    "    # find index of '0'\n",
    "    index = get_zero_index(state)\n",
    "    \n",
    "    # row and col index of '0'\n",
    "    i = (int)(index / 3) # row\n",
    "    j = index % 3; # col\n",
    "\n",
    "    # move up if possible\n",
    "    if(i!=0):\n",
    "        temp_mat = np.copy(mat)\n",
    "        temp_mat[i][j] = temp_mat[i-1][j]\n",
    "        temp_mat[i-1][j] = 0\n",
    "        state = matrix_to_str(temp_mat)\n",
    "        neighbours.append(state)\n",
    "\n",
    "    # move down if possible\n",
    "    if(i!=2):\n",
    "        temp_mat = np.copy(mat)\n",
    "        temp_mat[i][j] = temp_mat[i+1][j]\n",
    "        temp_mat[i+1][j] = 0\n",
    "        state = matrix_to_str(temp_mat)\n",
    "        neighbours.append(state)\n",
    "\n",
    "    # move left if possible\n",
    "    if(j!=0):\n",
    "        temp_mat = np.copy(mat)\n",
    "        temp_mat[i][j] = temp_mat[i][j-1]\n",
    "        temp_mat[i][j-1] = 0\n",
    "        state = matrix_to_str(temp_mat)\n",
    "        neighbours.append(state)\n",
    "\n",
    "    # move right if possible\n",
    "    if(j!=2):\n",
    "        temp_mat = np.copy(mat)\n",
    "        temp_mat[i][j] = temp_mat[i][j+1]\n",
    "        temp_mat[i][j+1] = 0\n",
    "        state = matrix_to_str(temp_mat)\n",
    "        neighbours.append(state)\n",
    "\n",
    "    return neighbours\n",
    "\n",
    "\"\"\" TESTING \"\"\" \n",
    "# state = '852031764' \n",
    "# next_states(state)"
   ]
  },
  {
   "cell_type": "code",
   "execution_count": 4,
   "metadata": {},
   "outputs": [],
   "source": [
    "# sum of manhatten distance \n",
    "def heuristic(state):\n",
    "    ij = [0 for i in range(9)]\n",
    "    for index, ch in enumerate(state):      \n",
    "        i = (int)(index / 3) # row\n",
    "        j = index % 3; # col\n",
    "        ij[(int)(ch)] = ((i,j))\n",
    "    \n",
    "    dist_sum = 0\n",
    "    for index in range(1,9):\n",
    "        i = (int)(index / 3) # row\n",
    "        j = index % 3; # col\n",
    "        dx = abs(i - ij[index][0])\n",
    "        dy = abs(j - ij[index][1])\n",
    "        dist = dx + dy      \n",
    "        dist_sum += dist\n",
    "    \n",
    "    return dist_sum\n",
    "\n",
    "\"\"\" TESTING \"\"\"\n",
    "# state = \"724506831\"\n",
    "# heuristic(state)"
   ]
  },
  {
   "cell_type": "code",
   "execution_count": 4,
   "metadata": {},
   "outputs": [
    {
     "data": {
      "text/plain": [
       "' TESTING '"
      ]
     },
     "execution_count": 4,
     "metadata": {},
     "output_type": "execute_result"
    }
   ],
   "source": [
    "def "
   ]
  },
  {
   "cell_type": "markdown",
   "metadata": {},
   "source": [
    "# Pure A* Search \n",
    "https://en.wikipedia.org/wiki/A*_search_algorithm\n",
    "\n",
    "> Typical implementations of A* use a priority queue to perform the repeated selection of minimum (estimated) cost nodes to expand. This priority queue is known as the open set or fringe.\n",
    "\n",
    "```javascript\n",
    "function reconstruct_path(cameFrom, current)\n",
    "    total_path := {current}\n",
    "    while current in cameFrom.Keys:\n",
    "        current := cameFrom[current]\n",
    "        total_path.prepend(current)\n",
    "    return total_path\n",
    "\n",
    "// A* finds a path from start to goal.\n",
    "// h is the heuristic function. h(n) estimates the cost to reach goal from node n.\n",
    "function A_Star(start, goal, h)\n",
    "    // The set of discovered nodes that need to be (re-)expanded.\n",
    "    // Initially, only the start node is known.\n",
    "    openSet := {start}\n",
    "\n",
    "    // For node n, cameFrom[n] is the node immediately preceding it \n",
    "    // on the cheapest path from start to n currently known.\n",
    "    cameFrom := an empty map\n",
    "\n",
    "    // For node n, gScore[n] is the cost of the cheapest path from start to n currently known.\n",
    "    gScore := map with default value of Infinity\n",
    "    gScore[start] := 0\n",
    "\n",
    "    // For node n, fScore[n] := gScore[n] + h(n).\n",
    "    fScore := map with default value of Infinity\n",
    "    fScore[start] := h(start)\n",
    "\n",
    "    while openSet is not empty\n",
    "        current := the node in openSet having the lowest fScore[] value\n",
    "        if current = goal\n",
    "            return reconstruct_path(cameFrom, current)\n",
    "\n",
    "        openSet.Remove(current)\n",
    "        closedSet.Add(current)\n",
    "        for each neighbor of current\n",
    "            if neighbor in closedSet \n",
    "                continue\n",
    "            // d(current,neighbor) is the weight of the edge from current to neighbor\n",
    "            // tentative_gScore is the distance from start to the neighbor through current\n",
    "            tentative_gScore := gScore[current] + d(current, neighbor)\n",
    "            if tentative_gScore < gScore[neighbor]\n",
    "                // This path to neighbor is better than any previous one. Record it!\n",
    "                cameFrom[neighbor] := current\n",
    "                gScore[neighbor] := tentative_gScore\n",
    "                fScore[neighbor] := gScore[neighbor] + h(neighbor)\n",
    "                if neighbor not in openSet\n",
    "                    openSet.add(neighbor)\n",
    "\n",
    "    // Open set is empty but goal was never reached\n",
    "    return failure\n",
    "```"
   ]
  },
  {
   "cell_type": "code",
   "execution_count": 212,
   "metadata": {},
   "outputs": [
    {
     "name": "stdout",
     "output_type": "stream",
     "text": [
      "{1}\n"
     ]
    }
   ],
   "source": [
    "openSet = set()\n",
    "openSet.add(1)\n",
    "print(openSet)"
   ]
  },
  {
   "cell_type": "code",
   "execution_count": 216,
   "metadata": {},
   "outputs": [],
   "source": [
    "import math\n",
    "\n",
    "def reconstruct_path(cameFrom, current):\n",
    "    total_path = [current]\n",
    "    while current in cameFrom.keys():\n",
    "        current = cameFrom[current]\n",
    "        total_path.insert(0, current)\n",
    "    return total_path\n",
    "\n",
    "def A_Star(start, heuristic):\n",
    "    # Discovered nodes that need to be (re-)expanded.\n",
    "    openSet = set()\n",
    "    \n",
    "    # Initially, only the 'start' node is 'discovered'.\n",
    "    openSet.add(start)\n",
    "\n",
    "    # Nodes that have already been expanded\n",
    "    closedSet = set()\n",
    "    \n",
    "    # For node 'n', cameFrom[n] is the node immediately preceding it \n",
    "    # on the cheapest path from 'start' to 'n' currently known.\n",
    "    cameFrom = {}\n",
    "    \n",
    "    # For node 'n', gScore[n] is the cost of the cheapest path \n",
    "    # from 'start' to 'n' currently known.\n",
    "    gScore = {} # map with default value of Infinity\n",
    "    gScore[start] = 0\n",
    "\n",
    "    # For node 'n', fScore[n] := gScore[n] + heuristic(n).\n",
    "    fScore = {} # map with default value of Infinity\n",
    "    fScore[start] = gScore[start] + heuristic(start)\n",
    "    \n",
    "    while(len(openSet)): # openSet is not empty\n",
    "        \n",
    "        # current := the node in openSet having the lowest fScore[] value\n",
    "        current = min(openSet, key=lambda node: fScore[node])\n",
    "        \n",
    "        # Goal test\n",
    "        if (current == \"012345678\"):\n",
    "            return reconstruct_path(cameFrom, current)\n",
    "        \n",
    "        # Expanding 'current' node\n",
    "        for neighbor in next_states(current):\n",
    "            if neighbor in closedSet:\n",
    "                continue\n",
    "                \n",
    "            # tentative_gScore is the distance \n",
    "            # from start to the neighbor through current        \n",
    "            tentative_gScore = gScore[current] + 1 \n",
    "            \n",
    "            # If neighbour not visited previously\n",
    "            # => best-path known is infinite gScore!\n",
    "            if neighbor not in gScore.keys():\n",
    "                gScore[neighbor] = math.inf\n",
    "                \n",
    "            if (tentative_gScore < gScore[neighbor]):\n",
    "                # This path to neighbor is better than \n",
    "                # any previous known path one. Record it!\n",
    "                cameFrom[neighbor] = current\n",
    "                gScore[neighbor] = tentative_gScore\n",
    "                fScore[neighbor] = gScore[neighbor] + heuristic(neighbor)\n",
    "                if neighbor not in openSet:\n",
    "                    openSet.add(neighbor)\n",
    "\n",
    "        # Expantion of 'current' node complete\n",
    "        openSet.remove(current)\n",
    "        closedSet.add(current)\n",
    "\n",
    "    # Open set is empty but goal was never reached\n",
    "    return -1"
   ]
  },
  {
   "cell_type": "code",
   "execution_count": 217,
   "metadata": {},
   "outputs": [
    {
     "data": {
      "text/plain": [
       "['321478650',\n",
       " '321478605',\n",
       " '321408675',\n",
       " '301428675',\n",
       " '031428675',\n",
       " '431028675',\n",
       " '431628075',\n",
       " '431628705',\n",
       " '431628750',\n",
       " '431620758',\n",
       " '431602758',\n",
       " '431652708',\n",
       " '431652078',\n",
       " '431052678',\n",
       " '031452678',\n",
       " '301452678',\n",
       " '310452678',\n",
       " '312450678',\n",
       " '312405678',\n",
       " '312045678',\n",
       " '012345678']"
      ]
     },
     "execution_count": 217,
     "metadata": {},
     "output_type": "execute_result"
    }
   ],
   "source": [
    "A_Star(\"321478650\", heuristic)"
   ]
  },
  {
   "cell_type": "code",
   "execution_count": 25,
   "metadata": {},
   "outputs": [],
   "source": [
    "import networkx as nx\n",
    "G = nx.Graph()"
   ]
  },
  {
   "cell_type": "code",
   "execution_count": 53,
   "metadata": {},
   "outputs": [
    {
     "name": "stdout",
     "output_type": "stream",
     "text": [
      "75\n",
      "74\n"
     ]
    }
   ],
   "source": [
    "e = set()\n",
    "count = 0\n",
    "for node in path_nodes:\n",
    "    for nxt in next_states(node):\n",
    "        count += 1\n",
    "        if (node, nxt) not in e and (nxt, node) not in e :\n",
    "            e.add((node, nxt))\n",
    "            \n",
    "G.add_edges_from(e)\n",
    "e = set(node for node in G.nodes())\n",
    "\n",
    "t = e.difference(set(path_nodes))\n",
    "e = set()\n",
    "for node in t:\n",
    "    for nxt in next_states(node):\n",
    "        count += 1\n",
    "        if (node, nxt) not in e and (nxt, node) not in e :\n",
    "            e.add((node, nxt))\n",
    "\n",
    "G.add_edges_from(e)\n",
    "print(G.number_of_nodes())\n",
    "print(G.number_of_edges())"
   ]
  },
  {
   "cell_type": "code",
   "execution_count": 71,
   "metadata": {},
   "outputs": [],
   "source": [
    "node_color = ['b' if node in path_nodes else 'r' for node in G.nodes()]"
   ]
  },
  {
   "cell_type": "code",
   "execution_count": 103,
   "metadata": {},
   "outputs": [
    {
     "data": {
      "image/png": "[encoded data removed]",
      "text/plain": [
       "<Figure size 576x576 with 1 Axes>"
      ]
     },
     "metadata": {},
     "output_type": "display_data"
    }
   ],
   "source": [
    "import matplotlib.pyplot as plt\n",
    "pos = nx.spring_layout(G)\n",
    "plt.figure(figsize=(8, 8))\n",
    "nx.draw_networkx(G, pos=pos, with_labels=False, node_size=100,\n",
    "                node_color=node_color)\n",
    "plt.show()"
   ]
  },
  {
   "cell_type": "markdown",
   "metadata": {},
   "source": [
    "# Modified A* Search "
   ]
  },
  {
   "cell_type": "code",
   "execution_count": 201,
   "metadata": {},
   "outputs": [],
   "source": [
    "import math\n",
    "\n",
    "def reconstruct_path(cameFrom, current):\n",
    "    total_path = [current]\n",
    "    while current in cameFrom.keys():\n",
    "        current = cameFrom[current]\n",
    "        total_path.insert(0, current)\n",
    "    return total_path\n",
    "\n",
    "def A_Star(start):\n",
    "    # The set of discovered nodes that need to be (re-)expanded.\n",
    "    # Initially, only the start node is known.\n",
    "    openSet = [start] # consider using priority queue\n",
    "\n",
    "    # already expanded there nodes\n",
    "    closedSet = []\n",
    "    \n",
    "    # For node n, cameFrom[n] is the node immediately preceding it \n",
    "    # on the cheapest path from start to n currently known.\n",
    "    cameFrom = {}\n",
    "    \n",
    "    # For node n, gScore[n] is the cost of the cheapest path from start to n currently known.\n",
    "    gScore = {} # map with default value of Infinity\n",
    "    gScore[start] = 0\n",
    "\n",
    "    # For node n, fScore[n] := gScore[n] + h(n).\n",
    "    fScore = {} # map with default value of Infinity\n",
    "    fScore[start] = heuristic(start)\n",
    "    \n",
    "    while(len(openSet) != 0): # openSet is not empty\n",
    "        \n",
    "        # current := the node in openSet having the lowest fScore[] value\n",
    "        current = min(openSet, key=lambda o: gScore[o] + heuristic(o))\n",
    "        \n",
    "        if (current == \"012345678\"):\n",
    "            return reconstruct_path(cameFrom, current)\n",
    "        \n",
    "        # get limited BFS depth neighbours\n",
    "        neighbours = LimitedBFS(current, depth)\n",
    "\n",
    "        # UNION of neighbours and openSet\n",
    "        \n",
    "        #Remove the item from the open set\n",
    "        openSet.remove(current)\n",
    "        #Add it to the closed set\n",
    "        closedSet.append(current)\n",
    "        \n",
    "        for neighbor in next_states(current):\n",
    "            if neighbor in closedSet:\n",
    "                continue\n",
    "                \n",
    "            # d(current,neighbor) is the weight of the edge from current to neighbor\n",
    "            # tentative_gScore := gScore[current] + d(current, neighbor)\n",
    "            \n",
    "            # d(x,y) = 1 for all pairs x, y in our case!\n",
    "            # tentative_gScore is the distance from start to the neighbor through current        \n",
    "            tentative_gScore = gScore[current] + 1 \n",
    "            \n",
    "            try:\n",
    "                gScore_neighbor = gScore[neighbor]\n",
    "            except:\n",
    "                gScore_neighbor = math.inf\n",
    "                \n",
    "            if (tentative_gScore < gScore_neighbor):\n",
    "                # This path to neighbor is better than any previous one. Record it!\n",
    "                cameFrom[neighbor] = current\n",
    "                gScore[neighbor] = tentative_gScore\n",
    "                fScore[neighbor] = gScore[neighbor] + heuristic(neighbor)\n",
    "                if neighbor not in openSet:\n",
    "                    openSet.append(neighbor)\n",
    "\n",
    "    # Open set is empty but goal was never reached\n",
    "    return -1"
   ]
  },
  {
   "cell_type": "code",
   "execution_count": null,
   "metadata": {},
   "outputs": [],
   "source": []
  }
 ],
 "metadata": {
  "kernelspec": {
   "display_name": "Python 3",
   "language": "python",
   "name": "python3"
  },
  "language_info": {
   "codemirror_mode": {
    "name": "ipython",
    "version": 3
   },
   "file_extension": ".py",
   "mimetype": "text/x-python",
   "name": "python",
   "nbconvert_exporter": "python",
   "pygments_lexer": "ipython3",
   "version": "3.7.3"
  }
 },
 "nbformat": 4,
 "nbformat_minor": 4
}
